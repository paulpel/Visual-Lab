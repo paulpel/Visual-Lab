{
  "cells": [
    {
      "cell_type": "markdown",
      "metadata": {
        "id": "FnDdLG3zKtay"
      },
      "source": [
        "# Systemy inspekcji wizualnej  \n",
        "## Laboratorium  7 - Detekcja ruchu\n",
        "dr inż. Łukasz Jeleń"
      ]
    },
    {
      "cell_type": "markdown",
      "metadata": {
        "id": "eP0JVHpmK2c2"
      },
      "source": [
        "Nazwisko i Imię:  \n",
        "Nr albumu:  \n",
        "data wykonania ćwiczenia:  "
      ]
    },
    {
      "cell_type": "markdown",
      "metadata": {
        "id": "6PlUY5TeK3sD"
      },
      "source": [
        "# 1. Narzędzia  \n",
        "  \n",
        "  \n",
        "Na zjęciach korzystamy z pythnona, a jako środowisko pracy mają Państwo do wyboru Google Colab (https://colab.research.google.com) - wersja online, lub Anaconda Navigator (https://www.anaconda.com/) - wymaga instalacji na własnym komputerze. Są to oczywiście tylko propozycje. "
      ]
    },
    {
      "cell_type": "markdown",
      "metadata": {
        "id": "7vFgNyvgLI5X"
      },
      "source": [
        "# 2. Zadania. \n",
        "  \n",
        "## Zadanie 1 - Detekcja zmian w obrazie (odejmowanie zdjęć) \n",
        "  \n",
        "Na wyładzie poświęcownym operacjom na orazach mówiliśmy, że poprzez wyznaczenie różnicy między dwoma obrazami (`cv2.absdiff(src1,src2)`) możemy sprawdzić, czy obiekty na obrazach uległy zmianie.  \n",
        "  \n",
        "Do wykonania tego zadania proszę wykorzystać zdjęcia zamieszczone na e-portalu. Należy sprawdzić, czy przedmioty na zdjęciach `3.jpg, 4.jpg, 5.jpg` uległy zmianie lub przesunięciu względem zdjecia `1.jpg` z wykorzystaniem różnicy obrazów. Proszę pamięteć, że najlepszy efekt uzyskamu stosując dodatkowe operacje poprawiające efekt odejmowania: opercje morfologiczne, progowanie."
      ]
    },
    {
      "cell_type": "code",
      "execution_count": null,
      "metadata": {
        "id": "eKtt_l38KT3T"
      },
      "outputs": [],
      "source": []
    },
    {
      "cell_type": "markdown",
      "metadata": {
        "id": "Gu5w3AZUTWzl"
      },
      "source": [
        "## Zadanie 2 - Detekcja zmian w obrazie (dzielenie obrzów)"
      ]
    },
    {
      "cell_type": "markdown",
      "metadata": {
        "id": "Bmvd7fqDT5xy"
      },
      "source": [
        "Dzielienie jest kolejną opreacją, którą można wykorzystać w celu detekcji zmian w obrazie.  \n",
        "  \n",
        "Do wykonania tego zadania również proszę wykorzystać zdjęcia zamieszczone na e-portalu. Należy sprawdzić, czy przedmioty na zdjęciach 3.jpg, 4.jpg, 5.jpg uległy zmianie lub przesunięciu względem zdjecia 1.jpg z wkorzystaniem ilorazu zdjęć. Proszę pamięteć, że najlepszy efekt uzyskamu stosując dodatkowe operacje poprawiające efekt odejmowania: opercje morfologiczne, progowanie."
      ]
    },
    {
      "cell_type": "code",
      "execution_count": null,
      "metadata": {
        "id": "HXyCRGOyTjJt"
      },
      "outputs": [],
      "source": []
    },
    {
      "cell_type": "markdown",
      "metadata": {
        "id": "shTRI9-KWORd"
      },
      "source": [
        "## Zadanie 3 - detekcja ruchu"
      ]
    },
    {
      "cell_type": "markdown",
      "metadata": {
        "id": "SAz19bwtWce_"
      },
      "source": [
        "Techniki wykrywania zmian w obrazach możemy łatwo zastosować do stumienia wideo i zbudować detektor ruchu. W tym celu wczytujemy pierwszą ramkę wideo jako ramka referencyjna, a następnie wykonujemy operację odejmowania lub dzielenia ramki referencyjnej przez kolejne. Ogólny schemat można zapisać:\n",
        "\n",
        "\n",
        "1.   wczytaj wideo \n",
        "2.   zamień ramkę na obraz monochromatyczny \n",
        "3. zastosuj filtr wygładzający (np. Gaussowaski)\n",
        "4. dla kolejnej rami powtórz kroki 2 i 3 \n",
        "5. Odejmij drugą ramkę od pierwszej \n",
        "6. zapisz drugą ramkę jako referencyjną \n",
        "7. do wynku odejmowania zastosuj operacje morfologiczne i progowanie\n",
        "8. z obrazu wynikowego wylicz kontury\n",
        "9. na podstawie konturów oblicz prostokąt okalający (bounding box)\n",
        "10. nanieś prostokąt na oryginalne wideo.\n",
        "11. wyświetl wynik\n"
      ]
    },
    {
      "cell_type": "code",
      "source": [],
      "metadata": {
        "id": "CAFXOJTJjkph"
      },
      "execution_count": null,
      "outputs": []
    },
    {
      "cell_type": "markdown",
      "metadata": {
        "id": "iW29u4-CYrnv"
      },
      "source": [
        "### Detekcja ruchu z kamery\n",
        " \n",
        "Państwa zadaniem jest napisanie prostej aplikacji, która będzie przetwarzać obraz z kamery komputera i poinformuje użytkownika jeśli w obrazie z kamery zostanie wykrytu ruch. Należy wyświetlić stosowny komunikat w konsoli oraz na podglądzie z kamery. "
      ]
    },
    {
      "cell_type": "code",
      "source": [],
      "metadata": {
        "id": "cWvSza3Qjjom"
      },
      "execution_count": null,
      "outputs": []
    },
    {
      "cell_type": "code",
      "execution_count": null,
      "metadata": {
        "id": "h8UTzrj9Y5Et"
      },
      "outputs": [],
      "source": []
    }
  ],
  "metadata": {
    "colab": {
      "provenance": []
    },
    "kernelspec": {
      "display_name": "Python 3 (ipykernel)",
      "language": "python",
      "name": "python3"
    },
    "language_info": {
      "codemirror_mode": {
        "name": "ipython",
        "version": 3
      },
      "file_extension": ".py",
      "mimetype": "text/x-python",
      "name": "python",
      "nbconvert_exporter": "python",
      "pygments_lexer": "ipython3",
      "version": "3.9.12"
    }
  },
  "nbformat": 4,
  "nbformat_minor": 0
}